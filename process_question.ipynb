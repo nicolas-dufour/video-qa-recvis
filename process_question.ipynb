{
 "cells": [
  {
   "cell_type": "code",
   "execution_count": 1,
   "metadata": {
    "Collapsed": "false"
   },
   "outputs": [],
   "source": [
    "import preprocess.tvqa_text_prep as tvqa_text_prep"
   ]
  },
  {
   "cell_type": "code",
   "execution_count": null,
   "metadata": {
    "Collapsed": "false"
   },
   "outputs": [],
   "source": [
    "tvqa_text_prep.split_train_val('data/tvqa/raw_data/train_val_qa.csv','data/tvqa/raw_data/train_qa.csv','data/tvqa/raw_data/val_qa.csv')"
   ]
  },
  {
   "cell_type": "code",
   "execution_count": null,
   "metadata": {
    "Collapsed": "false"
   },
   "outputs": [],
   "source": [
    "tvqa_text_prep.process_questions(\n",
    "    train_csv = 'data/tvqa/raw_data/train_qa.csv', \n",
    "    val_csv = 'data/tvqa/raw_data/val_qa.csv', \n",
    "    test_csv = 'data/tvqa/raw_data/test_qa.csv', \n",
    "    train_output ='data/tvqa/bert_question_embedding/tvqa_train_questions.pt',\n",
    "    val_output='data/tvqa/bert_question_embedding/tvqa_val_questions.pt',\n",
    "    test_output='data/tvqa/bert_question_embedding/tvqa_test_questions.pt',\n",
    "    model_name='bert-base-uncased')"
   ]
  },
  {
   "cell_type": "code",
   "execution_count": null,
   "metadata": {
    "Collapsed": "false"
   },
   "outputs": [],
   "source": [
    "tvqa_text_prep.process_subs('data/tvqa/raw_data/tvqa_subtitles/','data/tvqa/tvqa_subtitles_splitted.pt')"
   ]
  },
  {
   "cell_type": "code",
   "execution_count": 1,
   "metadata": {
    "Collapsed": "false"
   },
   "outputs": [],
   "source": [
    "import preprocess.tvqa_frame_reformat as tvqa_frame_reformat"
   ]
  },
  {
   "cell_type": "code",
   "execution_count": 2,
   "metadata": {
    "Collapsed": "false"
   },
   "outputs": [
    {
     "name": "stdout",
     "output_type": "stream",
     "text": [
      "8 16 2048\n"
     ]
    },
    {
     "data": {
      "application/vnd.jupyter.widget-view+json": {
       "model_id": "148304710a114769a53354f8c0d550d1",
       "version_major": 2,
       "version_minor": 0
      },
      "text/plain": [
       "HBox(children=(FloatProgress(value=0.0, max=21829.0), HTML(value='')))"
      ]
     },
     "metadata": {},
     "output_type": "display_data"
    },
    {
     "name": "stdout",
     "output_type": "stream",
     "text": [
      "\n"
     ]
    }
   ],
   "source": [
    "tvqa_frame_reformat.reformat_frames('data/tvqa/tvqa_imagenet_pool5_hq_sampled.h5','data/tvqa/tvqa_appearance_feat.h5')"
   ]
  },
  {
   "cell_type": "code",
   "execution_count": null,
   "metadata": {
    "Collapsed": "false"
   },
   "outputs": [],
   "source": []
  }
 ],
 "metadata": {
  "environment": {
   "name": "pytorch-gpu.1-6.m59",
   "type": "gcloud",
   "uri": "gcr.io/deeplearning-platform-release/pytorch-gpu.1-6:m59"
  },
  "kernelspec": {
   "display_name": "Python 3",
   "language": "python",
   "name": "python3"
  },
  "language_info": {
   "codemirror_mode": {
    "name": "ipython",
    "version": 3
   },
   "file_extension": ".py",
   "mimetype": "text/x-python",
   "name": "python",
   "nbconvert_exporter": "python",
   "pygments_lexer": "ipython3",
   "version": "3.7.8"
  }
 },
 "nbformat": 4,
 "nbformat_minor": 4
}
