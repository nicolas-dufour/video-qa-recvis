{
 "cells": [
  {
   "cell_type": "code",
   "execution_count": 1,
   "metadata": {
    "Collapsed": "false"
   },
   "outputs": [],
   "source": [
    "import preprocess.tvqa_text_prep as tvqa_text_prep\n",
    "import preprocess.msvd_text_prep as msvd_text_prep\n",
    "import preprocess.msrvtt_text_prep as msrvtt_text_prep\n",
    "import pandas as pd"
   ]
  },
  {
   "cell_type": "markdown",
   "metadata": {
    "Collapsed": "false"
   },
   "source": [
    "## MSVD"
   ]
  },
  {
   "cell_type": "code",
   "execution_count": 1,
   "metadata": {
    "Collapsed": "false"
   },
   "outputs": [
    {
     "ename": "NameError",
     "evalue": "name 'msvd_text_prep' is not defined",
     "output_type": "error",
     "traceback": [
      "\u001b[0;31m---------------------------------------------------------------------------\u001b[0m",
      "\u001b[0;31mNameError\u001b[0m                                 Traceback (most recent call last)",
      "\u001b[0;32m<ipython-input-1-0ad5333e8a42>\u001b[0m in \u001b[0;36m<module>\u001b[0;34m\u001b[0m\n\u001b[0;32m----> 1\u001b[0;31m msvd_text_prep.process_questions(\n\u001b[0m\u001b[1;32m      2\u001b[0m     \u001b[0mtrain_csv\u001b[0m \u001b[0;34m=\u001b[0m \u001b[0;34m'data/msvd-qa/raw_questions/train_qa.csv'\u001b[0m\u001b[0;34m,\u001b[0m\u001b[0;34m\u001b[0m\u001b[0;34m\u001b[0m\u001b[0m\n\u001b[1;32m      3\u001b[0m     \u001b[0mval_csv\u001b[0m \u001b[0;34m=\u001b[0m \u001b[0;34m'data/msvd-qa/raw_questions/val_qa.csv'\u001b[0m\u001b[0;34m,\u001b[0m\u001b[0;34m\u001b[0m\u001b[0;34m\u001b[0m\u001b[0m\n\u001b[1;32m      4\u001b[0m     \u001b[0mtest_csv\u001b[0m \u001b[0;34m=\u001b[0m \u001b[0;34m'data/msvd-qa/raw_questions/test_qa.csv'\u001b[0m\u001b[0;34m,\u001b[0m\u001b[0;34m\u001b[0m\u001b[0;34m\u001b[0m\u001b[0m\n\u001b[1;32m      5\u001b[0m     \u001b[0mtrain_output\u001b[0m \u001b[0;34m=\u001b[0m\u001b[0;34m'data/msvd-qa/bert_question_embedding/msvd-qa_train_questions.pt'\u001b[0m\u001b[0;34m,\u001b[0m\u001b[0;34m\u001b[0m\u001b[0;34m\u001b[0m\u001b[0m\n",
      "\u001b[0;31mNameError\u001b[0m: name 'msvd_text_prep' is not defined"
     ]
    }
   ],
   "source": [
    "msvd_text_prep.process_questions(\n",
    "    train_csv = 'data/msvd-qa/raw_questions/train_qa.csv', \n",
    "    val_csv = 'data/msvd-qa/raw_questions/val_qa.csv', \n",
    "    test_csv = 'data/msvd-qa/raw_questions/test_qa.csv', \n",
    "    train_output ='data/msvd-qa/bert_question_embedding/msvd-qa_train_questions.pt',\n",
    "    val_output='data/msvd-qa/bert_question_embedding/msvd-qa_val_questions.pt',\n",
    "    test_output='data/msvd-qa/bert_question_embedding/msvd-qa_test_questions.pt',\n",
    "    vocab_path = 'data/msvd-qa/bert_question_embedding/msvd-qa_vocab_bert.json'\n",
    ")"
   ]
  },
  {
   "cell_type": "markdown",
   "metadata": {
    "Collapsed": "false"
   },
   "source": [
    "## MSRVTT"
   ]
  },
  {
   "cell_type": "code",
   "execution_count": null,
   "metadata": {
    "Collapsed": "false"
   },
   "outputs": [],
   "source": [
    "msrvtt_text_prep.create_vocab('data/msrvtt-qa/raw_questions/train_qa.json',vocab_path='data/msrvtt-qa/bert_question_embedding/msrvtt-qa_vocab_bert.json')"
   ]
  },
  {
   "cell_type": "code",
   "execution_count": null,
   "metadata": {
    "Collapsed": "false"
   },
   "outputs": [],
   "source": [
    "pd.read_json('data/msrvtt-qa/raw_questions/train_qa.json').to_csv('data/msrvtt-qa/raw_questions/train_qa.csv',sep='\\t',index=False)\n",
    "pd.read_json('data/msrvtt-qa/raw_questions/val_qa.json').to_csv('data/msrvtt-qa/raw_questions/val_qa.csv',sep='\\t',index=False)\n",
    "pd.read_json('data/msrvtt-qa/raw_questions/test_qa.json').to_csv('data/msrvtt-qa/raw_questions/test_qa.csv',sep='\\t',index=False)"
   ]
  },
  {
   "cell_type": "code",
   "execution_count": null,
   "metadata": {
    "Collapsed": "false"
   },
   "outputs": [],
   "source": [
    "msrvtt_text_prep.process_questions(\n",
    "    train_csv = 'data/msrvtt-qa/raw_questions/train_qa.csv', \n",
    "    val_csv = 'data/msrvtt-qa/raw_questions/val_qa.csv', \n",
    "    test_csv = 'data/msrvtt-qa/raw_questions/test_qa.csv', \n",
    "    train_output ='data/msrvtt-qa/bert_question_embedding/tvqa_train_questions.pt',\n",
    "    val_output='data/msrvtt-qa/bert_question_embedding/tvqa_val_questions.pt',\n",
    "    test_output='data/msrvtt-qa/bert_question_embedding/tvqa_test_questions.pt',\n",
    "    vocab_path = 'data/msrvtt-qa/bert_question_embedding/msrvtt-qa_vocab_bert.json'\n",
    ")"
   ]
  },
  {
   "cell_type": "markdown",
   "metadata": {
    "Collapsed": "false"
   },
   "source": [
    "## TVQA"
   ]
  },
  {
   "cell_type": "code",
   "execution_count": null,
   "metadata": {
    "Collapsed": "false"
   },
   "outputs": [],
   "source": [
    "tvqa_text_prep.split_train_val('data/tvqa/raw_data/train_val_qa.csv','data/tvqa/raw_data/train_qa.csv','data/tvqa/raw_data/val_qa.csv')"
   ]
  },
  {
   "cell_type": "code",
   "execution_count": null,
   "metadata": {
    "Collapsed": "false"
   },
   "outputs": [],
   "source": [
    "tvqa_text_prep.process_questions(\n",
    "    train_csv = 'data/tvqa/raw_data/train_qa.csv', \n",
    "    val_csv = 'data/tvqa/raw_data/val_qa.csv', \n",
    "    test_csv = 'data/tvqa/raw_data/test_qa.csv', \n",
    "    train_output ='data/tvqa/distilbert_question_embedding/tvqa_train_questions.pt',\n",
    "    val_output='data/tvqa/distilbert_question_embedding/tvqa_val_questions.pt',\n",
    "    test_output='data/tvqa/distilbert_question_embedding/tvqa_test_questions.pt',\n",
    "    model_name='distilbert-base-uncased')"
   ]
  },
  {
   "cell_type": "code",
   "execution_count": 2,
   "metadata": {
    "Collapsed": "false"
   },
   "outputs": [
    {
     "name": "stderr",
     "output_type": "stream",
     "text": [
      "Special tokens have been added in the vocabulary, make sure the associated word embedding are fine-tuned or trained.\n"
     ]
    },
    {
     "data": {
      "application/vnd.jupyter.widget-view+json": {
       "model_id": "b95af137619e441f8c606df707bd3b09",
       "version_major": 2,
       "version_minor": 0
      },
      "text/plain": [
       "HBox(children=(FloatProgress(value=0.0, max=21795.0), HTML(value='')))"
      ]
     },
     "metadata": {},
     "output_type": "display_data"
    },
    {
     "name": "stdout",
     "output_type": "stream",
     "text": [
      "\n"
     ]
    }
   ],
   "source": [
    "tvqa_text_prep.process_subs('data/tvqa/raw_data/tvqa_subtitles/','data/tvqa/tvqa_subtitles_splitted.pt',model_name='distilbert-base-uncased')"
   ]
  },
  {
   "cell_type": "code",
   "execution_count": null,
   "metadata": {
    "Collapsed": "false"
   },
   "outputs": [],
   "source": [
    "import preprocess.tvqa_frame_reformat as tvqa_frame_reformat"
   ]
  },
  {
   "cell_type": "code",
   "execution_count": null,
   "metadata": {
    "Collapsed": "false"
   },
   "outputs": [],
   "source": [
    "tvqa_frame_reformat.reformat_frames('data/tvqa/tvqa_imagenet_pool5_hq_sampled.h5','data/tvqa/tvqa_appearance_feat.h5')"
   ]
  },
  {
   "cell_type": "code",
   "execution_count": 1,
   "metadata": {
    "Collapsed": "false"
   },
   "outputs": [],
   "source": [
    "import pickle\n",
    "with open('data/tvqa/distilbert_question_embedding/tvqa_train_questions.pt', 'rb') as f:\n",
    "    data = pickle.load(f)"
   ]
  },
  {
   "cell_type": "code",
   "execution_count": 2,
   "metadata": {
    "Collapsed": "false"
   },
   "outputs": [
    {
     "data": {
      "text/plain": [
       "Dataset({\n",
       "    features: ['a0_attention_mask', 'a0_tokens', 'a1_attention_mask', 'a1_tokens', 'a2_attention_mask', 'a2_tokens', 'a3_attention_mask', 'a3_tokens', 'a4_attention_mask', 'a4_tokens', 'answer_token', 'question_attention_mask', 'question_id', 'question_tokens', 'show_name', 'ts', 'video_ids'],\n",
       "    num_rows: 109835\n",
       "})"
      ]
     },
     "execution_count": 2,
     "metadata": {},
     "output_type": "execute_result"
    }
   ],
   "source": [
    "data"
   ]
  },
  {
   "cell_type": "code",
   "execution_count": null,
   "metadata": {
    "Collapsed": "false"
   },
   "outputs": [],
   "source": []
  }
 ],
 "metadata": {
  "environment": {
   "name": "pytorch-gpu.1-6.m59",
   "type": "gcloud",
   "uri": "gcr.io/deeplearning-platform-release/pytorch-gpu.1-6:m59"
  },
  "kernelspec": {
   "display_name": "Python 3",
   "language": "python",
   "name": "python3"
  },
  "language_info": {
   "codemirror_mode": {
    "name": "ipython",
    "version": 3
   },
   "file_extension": ".py",
   "mimetype": "text/x-python",
   "name": "python",
   "nbconvert_exporter": "python",
   "pygments_lexer": "ipython3",
   "version": "3.7.8"
  }
 },
 "nbformat": 4,
 "nbformat_minor": 4
}
