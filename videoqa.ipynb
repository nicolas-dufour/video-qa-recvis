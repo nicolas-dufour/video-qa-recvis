{
 "cells": [
  {
   "cell_type": "code",
   "execution_count": 1,
   "metadata": {},
   "outputs": [
    {
     "ename": "ModuleNotFoundError",
     "evalue": "No module named 'torch'",
     "output_type": "error",
     "traceback": [
      "\u001b[0;31m---------------------------------------------------------------------------\u001b[0m",
      "\u001b[0;31mModuleNotFoundError\u001b[0m                       Traceback (most recent call last)",
      "\u001b[0;32m<ipython-input-1-f4bee395fd79>\u001b[0m in \u001b[0;36m<module>\u001b[0;34m\u001b[0m\n\u001b[0;32m----> 1\u001b[0;31m \u001b[0;32mimport\u001b[0m \u001b[0mtorch\u001b[0m\u001b[0;34m\u001b[0m\u001b[0;34m\u001b[0m\u001b[0m\n\u001b[0m\u001b[1;32m      2\u001b[0m \u001b[0;32mimport\u001b[0m \u001b[0mtorch\u001b[0m\u001b[0;34m.\u001b[0m\u001b[0moptim\u001b[0m \u001b[0;32mas\u001b[0m \u001b[0moptim\u001b[0m\u001b[0;34m\u001b[0m\u001b[0;34m\u001b[0m\u001b[0m\n\u001b[1;32m      3\u001b[0m \u001b[0;32mimport\u001b[0m \u001b[0mtorch\u001b[0m\u001b[0;34m.\u001b[0m\u001b[0mnn\u001b[0m \u001b[0;32mas\u001b[0m \u001b[0mnn\u001b[0m\u001b[0;34m\u001b[0m\u001b[0;34m\u001b[0m\u001b[0m\n\u001b[1;32m      4\u001b[0m \u001b[0;32mimport\u001b[0m \u001b[0mpytorch_lightning\u001b[0m \u001b[0;32mas\u001b[0m \u001b[0mpl\u001b[0m\u001b[0;34m\u001b[0m\u001b[0;34m\u001b[0m\u001b[0m\n\u001b[1;32m      5\u001b[0m \u001b[0;32mimport\u001b[0m \u001b[0mwandb\u001b[0m\u001b[0;34m\u001b[0m\u001b[0;34m\u001b[0m\u001b[0m\n",
      "\u001b[0;31mModuleNotFoundError\u001b[0m: No module named 'torch'"
     ]
    }
   ],
   "source": [
    "import torch\n",
    "import torch.optim as optim\n",
    "import torch.nn as nn\n",
    "import pytorch_lightning as pl\n",
    "import wandb\n",
    "from pytorch_lightning.loggers import WandbLogger\n",
    "\n",
    "\n",
    "from DataLoader import VideoQADataLoader"
   ]
  },
  {
   "cell_type": "code",
   "execution_count": 6,
   "metadata": {},
   "outputs": [
    {
     "name": "stdout",
     "output_type": "stream",
     "text": [
      "\u001b[34m\u001b[1mwandb\u001b[0m: Appending key for api.wandb.ai to your netrc file: /home/jupyter/.netrc\n"
     ]
    }
   ],
   "source": [
    "!wandb login 3ed7a1bc59fad48beeadc999df34dbee428be831"
   ]
  },
  {
   "cell_type": "code",
   "execution_count": null,
   "metadata": {},
   "outputs": [],
   "source": [
    "wandb.init(project=\"video-qa-hcrn-recvis\")"
   ]
  },
  {
   "cell_type": "markdown",
   "metadata": {},
   "source": [
    "## Recreating papers results on MSVD-QA, MSRVTT-QA, TGIF-QA_FrameQA"
   ]
  },
  {
   "cell_type": "code",
   "execution_count": null,
   "metadata": {},
   "outputs": [],
   "source": [
    "import model.HCRN as HCRN"
   ]
  },
  {
   "cell_type": "markdown",
   "metadata": {},
   "source": [
    "### MSVD-QA"
   ]
  },
  {
   "cell_type": "code",
   "execution_count": null,
   "metadata": {},
   "outputs": [],
   "source": [
    "### Dataloader params\n",
    "dataset = 'MSVD-QA'\n",
    "train_loader_args = {\n",
    "    'question_pt': '',\n",
    "    'vocab_json': '',\n",
    "    'appearance_feat': '',\n",
    "    'motion_feat': '',\n",
    "    'batch_size': 32,\n",
    "    'num_workers': 4,\n",
    "    'shuffle': True\n",
    "}\n",
    "val_loader_args = {\n",
    "    'question_pt': '',\n",
    "    'vocab_json': '',\n",
    "    'appearance_feat': '',\n",
    "    'motion_feat': '',\n",
    "    'batch_size': 32,\n",
    "    'num_workers': 4,\n",
    "    'shuffle': False\n",
    "}"
   ]
  },
  {
   "cell_type": "code",
   "execution_count": null,
   "metadata": {},
   "outputs": [],
   "source": [
    "train_loader = VideoQADataLoader(**train_loader_kwargs)\n",
    "val_loader = VideoQADataLoader(**val_loader_kwargs)"
   ]
  },
  {
   "cell_type": "code",
   "execution_count": null,
   "metadata": {},
   "outputs": [],
   "source": [
    "model_kwargs = {\n",
    "        'vision_dim': 2048,\n",
    "        'module_dim': 512,\n",
    "        'word_dim': 300,\n",
    "        'k_max_frame_level': 16,\n",
    "        'k_max_clip_level': 8,\n",
    "        'spl_resolution': 1,\n",
    "        'vocab': train_loader.vocab\n",
    "    }\n",
    "max_epochs =25"
   ]
  },
  {
   "cell_type": "code",
   "execution_count": null,
   "metadata": {},
   "outputs": [],
   "source": [
    "def HCRN_base(pl.LightningModule):\n",
    "    def __init__(self,glove_matrix,lr):\n",
    "        super().__init__()\n",
    "        \n",
    "        self.lr = lr\n",
    "        self.criterion = nn.CrossEntropyLoss()\n",
    "        self.accuracy = pl.metrics.Accuracy()\n",
    "        \n",
    "        glove_matrix = torch.FloatTensor(glove_matrix)\n",
    "        self.model = HCRN.HCRNNetwork(**model_kwargs)\n",
    "        with torch.no_grad():\n",
    "            model.linguistic_input_unit.encoder_embed.weight.set_(glove_matrix)\n",
    "    \n",
    "    def forward(self,ans_candidates, ans_candidates_len, video_appearance_feat, video_motion_feat, question,\n",
    "                question_len):\n",
    "        return self.model(ans_candidates, ans_candidates_len, video_appearance_feat, video_motion_feat, question,\n",
    "                question_len)\n",
    "    \n",
    "    def configure_optimizers(self):\n",
    "        optimizer = optim.Adam(self.parameters(), lr=self.lr)\n",
    "        scheduler = optim.StepLR(optimizer,10,gamma=0.5)\n",
    "        return [optimizer],[scheduler]\n",
    "   \n",
    "    def training_step(self,batch,batch_idx):\n",
    "        _, _, answers, *batch_input = batch\n",
    "        logits = self(*batch_input)\n",
    "        loss = criterion(logits, answers)\n",
    "        acc = self.accuracy(logits,answers)\n",
    "        self.log('train_step_loss',loss,prog_bar = True,logger=True)\n",
    "        self.log('train_ste_acc',acc,prog_bar = True,logger=False)\n",
    "        correct_preds = (logits == answers).sum()\n",
    "        num_preds = len(answers)\n",
    "        return {'loss': loss, 'correct_preds': correct_preds, 'num_preds': num_preds}\n",
    "    \n",
    "    def training_epoch_end(self, training_step_outputs):\n",
    "        correct = 0\n",
    "        num_preds =0\n",
    "        loss=0\n",
    "        for step_out in training_step_outputs:\n",
    "            loss += step_out['loss']\n",
    "            correct += step_out['correct_preds']\n",
    "            num_preds += step_out['num_preds']\n",
    "        train_acc = correct/num_preds\n",
    "        self.log('train_loss',loss,logger=True)\n",
    "        self.log('train_acc',train_acc,logger=True)\n",
    "        \n",
    "    def validation_step(self,batch,batch_idx):\n",
    "        _, _, answers, *batch_input = batch\n",
    "        logits = self(*batch_input)\n",
    "        loss = criterion(logits, answers)\n",
    "        acc = self.accuracy(logits,answers)\n",
    "        correct_preds = (logits == answers).sum()\n",
    "        num_preds = len(answers)\n",
    "        return {'val_loss': loss, 'correct_preds': correct_preds, 'num_preds': num_preds}\n",
    "    \n",
    "    def validation_epoch_end(self, training_step_outputs):\n",
    "        correct = 0\n",
    "        num_preds = 0\n",
    "        val_loss = 0\n",
    "        for step_out in training_step_outputs:\n",
    "            val_loss += step_out['val_loss']\n",
    "            correct += step_out['correct_preds']\n",
    "            num_preds += step_out['num_preds']\n",
    "        train_acc = correct/num_preds\n",
    "        self.log('val_loss',val_loss,logger=True)\n",
    "        self.log('val_acc',train_acc,logger=True)\n",
    "        \n",
    "    "
   ]
  },
  {
   "cell_type": "code",
   "execution_count": null,
   "metadata": {},
   "outputs": [],
   "source": [
    "wandb_logger = WandbLogger(name='HCRN-MSVD-base',project='video-qa-hcrn-recvis')\n",
    "model =HCRN_base()\n",
    "trainer = pl.Trainer(gpus=1,max_epochs=max_epochs,logger = wandb_logger)\n",
    "trainer.fit(model,train_loader,val_loader)"
   ]
  }
 ],
 "metadata": {
  "environment": {
   "name": "pytorch-gpu.1-6.m59",
   "type": "gcloud",
   "uri": "gcr.io/deeplearning-platform-release/pytorch-gpu.1-6:m59"
  },
  "kernelspec": {
   "display_name": "Python 3",
   "language": "python",
   "name": "python3"
  },
  "language_info": {
   "codemirror_mode": {
    "name": "ipython",
    "version": 3
   },
   "file_extension": ".py",
   "mimetype": "text/x-python",
   "name": "python",
   "nbconvert_exporter": "python",
   "pygments_lexer": "ipython3",
   "version": "3.8.5"
  }
 },
 "nbformat": 4,
 "nbformat_minor": 4
}
